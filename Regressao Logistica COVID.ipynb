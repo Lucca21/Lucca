{
 "cells": [
  {
   "cell_type": "markdown",
   "metadata": {},
   "source": [
    "## Regressão Logística: UTI COVID"
   ]
  },
  {
   "cell_type": "code",
   "execution_count": 8,
   "metadata": {},
   "outputs": [],
   "source": [
    "import pandas as pd \n",
    "\n",
    "df = pd.read_csv('covid_ml-2-2.csv',sep = ';',encoding='latin-1')"
   ]
  },
  {
   "cell_type": "code",
   "execution_count": 9,
   "metadata": {},
   "outputs": [
    {
     "data": {
      "text/html": [
       "<div>\n",
       "<style scoped>\n",
       "    .dataframe tbody tr th:only-of-type {\n",
       "        vertical-align: middle;\n",
       "    }\n",
       "\n",
       "    .dataframe tbody tr th {\n",
       "        vertical-align: top;\n",
       "    }\n",
       "\n",
       "    .dataframe thead th {\n",
       "        text-align: right;\n",
       "    }\n",
       "</style>\n",
       "<table border=\"1\" class=\"dataframe\">\n",
       "  <thead>\n",
       "    <tr style=\"text-align: right;\">\n",
       "      <th></th>\n",
       "      <th>id</th>\n",
       "      <th>sexo</th>\n",
       "      <th>data_entrada</th>\n",
       "      <th>pneumonia</th>\n",
       "      <th>gravidez</th>\n",
       "      <th>diabetes</th>\n",
       "      <th>asma</th>\n",
       "      <th>imunodeficiencia</th>\n",
       "      <th>hipertensão</th>\n",
       "      <th>outra doença</th>\n",
       "      <th>cardiovascular</th>\n",
       "      <th>obesidade</th>\n",
       "      <th>renal_crônico</th>\n",
       "      <th>tabaco</th>\n",
       "      <th>contate outro covid</th>\n",
       "      <th>UTI</th>\n",
       "    </tr>\n",
       "  </thead>\n",
       "  <tbody>\n",
       "    <tr>\n",
       "      <th>0</th>\n",
       "      <td>16169f</td>\n",
       "      <td>2</td>\n",
       "      <td>04/05/2020</td>\n",
       "      <td>2</td>\n",
       "      <td>3</td>\n",
       "      <td>2</td>\n",
       "      <td>2</td>\n",
       "      <td>2</td>\n",
       "      <td>2</td>\n",
       "      <td>2</td>\n",
       "      <td>2</td>\n",
       "      <td>2</td>\n",
       "      <td>2</td>\n",
       "      <td>2</td>\n",
       "      <td>2</td>\n",
       "      <td>3</td>\n",
       "    </tr>\n",
       "    <tr>\n",
       "      <th>1</th>\n",
       "      <td>1009bf</td>\n",
       "      <td>2</td>\n",
       "      <td>19/03/2020</td>\n",
       "      <td>2</td>\n",
       "      <td>3</td>\n",
       "      <td>2</td>\n",
       "      <td>2</td>\n",
       "      <td>2</td>\n",
       "      <td>2</td>\n",
       "      <td>2</td>\n",
       "      <td>2</td>\n",
       "      <td>2</td>\n",
       "      <td>2</td>\n",
       "      <td>2</td>\n",
       "      <td>3</td>\n",
       "      <td>3</td>\n",
       "    </tr>\n",
       "    <tr>\n",
       "      <th>2</th>\n",
       "      <td>167386</td>\n",
       "      <td>1</td>\n",
       "      <td>06/04/2020</td>\n",
       "      <td>2</td>\n",
       "      <td>2</td>\n",
       "      <td>2</td>\n",
       "      <td>2</td>\n",
       "      <td>2</td>\n",
       "      <td>2</td>\n",
       "      <td>2</td>\n",
       "      <td>2</td>\n",
       "      <td>1</td>\n",
       "      <td>2</td>\n",
       "      <td>2</td>\n",
       "      <td>3</td>\n",
       "      <td>2</td>\n",
       "    </tr>\n",
       "    <tr>\n",
       "      <th>3</th>\n",
       "      <td>0b5948</td>\n",
       "      <td>2</td>\n",
       "      <td>17/04/2020</td>\n",
       "      <td>1</td>\n",
       "      <td>3</td>\n",
       "      <td>2</td>\n",
       "      <td>2</td>\n",
       "      <td>2</td>\n",
       "      <td>2</td>\n",
       "      <td>2</td>\n",
       "      <td>2</td>\n",
       "      <td>2</td>\n",
       "      <td>2</td>\n",
       "      <td>2</td>\n",
       "      <td>3</td>\n",
       "      <td>2</td>\n",
       "    </tr>\n",
       "    <tr>\n",
       "      <th>4</th>\n",
       "      <td>0d01b5</td>\n",
       "      <td>1</td>\n",
       "      <td>13/04/2020</td>\n",
       "      <td>2</td>\n",
       "      <td>2</td>\n",
       "      <td>1</td>\n",
       "      <td>2</td>\n",
       "      <td>2</td>\n",
       "      <td>1</td>\n",
       "      <td>2</td>\n",
       "      <td>1</td>\n",
       "      <td>2</td>\n",
       "      <td>2</td>\n",
       "      <td>2</td>\n",
       "      <td>3</td>\n",
       "      <td>2</td>\n",
       "    </tr>\n",
       "  </tbody>\n",
       "</table>\n",
       "</div>"
      ],
      "text/plain": [
       "       id  sexo data_entrada  pneumonia  gravidez  diabetes  asma  \\\n",
       "0  16169f     2   04/05/2020          2         3         2     2   \n",
       "1  1009bf     2   19/03/2020          2         3         2     2   \n",
       "2  167386     1   06/04/2020          2         2         2     2   \n",
       "3  0b5948     2   17/04/2020          1         3         2     2   \n",
       "4  0d01b5     1   13/04/2020          2         2         1     2   \n",
       "\n",
       "   imunodeficiencia  hipertensão  outra doença  cardiovascular  obesidade  \\\n",
       "0                 2            2             2               2          2   \n",
       "1                 2            2             2               2          2   \n",
       "2                 2            2             2               2          1   \n",
       "3                 2            2             2               2          2   \n",
       "4                 2            1             2               1          2   \n",
       "\n",
       "   renal_crônico  tabaco  contate outro covid  UTI  \n",
       "0              2       2                    2    3  \n",
       "1              2       2                    3    3  \n",
       "2              2       2                    3    2  \n",
       "3              2       2                    3    2  \n",
       "4              2       2                    3    2  "
      ]
     },
     "execution_count": 9,
     "metadata": {},
     "output_type": "execute_result"
    }
   ],
   "source": [
    "df.head()"
   ]
  },
  {
   "cell_type": "code",
   "execution_count": 10,
   "metadata": {},
   "outputs": [
    {
     "data": {
      "text/plain": [
       "id                     0\n",
       "sexo                   0\n",
       "data_entrada           0\n",
       "pneumonia              0\n",
       "gravidez               0\n",
       "diabetes               0\n",
       "asma                   0\n",
       "imunodeficiencia       0\n",
       "hipertensão            0\n",
       "outra doença           0\n",
       "cardiovascular         0\n",
       "obesidade              0\n",
       "renal_crônico          0\n",
       "tabaco                 0\n",
       "contate outro covid    0\n",
       "UTI                    0\n",
       "dtype: int64"
      ]
     },
     "execution_count": 10,
     "metadata": {},
     "output_type": "execute_result"
    }
   ],
   "source": [
    "df.apply(lambda x : sum(x.isnull()), axis=0)"
   ]
  },
  {
   "cell_type": "code",
   "execution_count": 11,
   "metadata": {
    "scrolled": true
   },
   "outputs": [
    {
     "name": "stdout",
     "output_type": "stream",
     "text": [
      "id ['16169f' '1009bf' '167386' ... '1beb81' '16fb02' '0021c9']\n",
      "sexo [2 1]\n",
      "data_entrada ['04/05/2020' '19/03/2020' '06/04/2020' '17/04/2020' '13/04/2020'\n",
      " '16/04/2020' '22/04/2020' '21/05/2020' '23/04/2020' '29/04/2020'\n",
      " '02/05/2020' '25/05/2020' '07/06/2020' '20/06/2020' '24/06/2020'\n",
      " '30/04/2020' '05/05/2020' '12/05/2020' '19/04/2020' '02/06/2020'\n",
      " '25/04/2020' '15/05/2020' '27/04/2020' '01/04/2020' '22/06/2020'\n",
      " '21/04/2020' '24/04/2020' '20/04/2020' '28/04/2020' '26/04/2020'\n",
      " '19/06/2020' '31/03/2020' '03/04/2020' '14/04/2020' '12/04/2020'\n",
      " '29/03/2020' '06/05/2020' '11/06/2020' '10/06/2020' '02/04/2020'\n",
      " '19/05/2020' '05/06/2020' '17/06/2020' '10/04/2020' '03/05/2020'\n",
      " '16/06/2020' '30/03/2020' '15/04/2020' '08/06/2020' '15/06/2020'\n",
      " '25/03/2020' '25/06/2020' '08/04/2020' '27/05/2020' '20/05/2020'\n",
      " '01/06/2020' '18/06/2020' '07/05/2020' '08/05/2020' '29/05/2020'\n",
      " '07/04/2020' '11/04/2020' '23/03/2020' '11/05/2020' '18/04/2020'\n",
      " '17/05/2020' '22/05/2020' '05/04/2020' '23/06/2020' '24/03/2020'\n",
      " '12/06/2020' '30/05/2020' '13/05/2020' '26/03/2020' '16/05/2020'\n",
      " '04/04/2020' '20/03/2020' '17/03/2020' '01/05/2020' '31/05/2020'\n",
      " '21/06/2020' '22/03/2020' '09/06/2020' '14/06/2020' '10/05/2020'\n",
      " '14/05/2020' '04/06/2020' '06/06/2020' '18/05/2020' '13/06/2020'\n",
      " '09/04/2020' '09/05/2020' '28/05/2020' '03/06/2020' '26/05/2020'\n",
      " '18/03/2020' '24/05/2020' '28/03/2020' '27/03/2020' '26/06/2020'\n",
      " '21/03/2020' '23/05/2020' '13/01/2020' '28/06/2020' '27/06/2020'\n",
      " '12/03/2020' '14/03/2020' '29/06/2020' '27/02/2020' '16/03/2020'\n",
      " '11/03/2020' '13/03/2020' '15/03/2020' '04/03/2020' '07/03/2020'\n",
      " '28/02/2020' '02/03/2020' '12/02/2020' '10/03/2020' '14/01/2020'\n",
      " '08/03/2020' '09/03/2020' '28/01/2020' '05/03/2020' '29/02/2020'\n",
      " '29/01/2020' '05/02/2020' '24/02/2020' '12/01/2020' '03/03/2020'\n",
      " '27/01/2020' '11/02/2020' '01/03/2020' '30/01/2020' '08/01/2020'\n",
      " '15/01/2020' '24/01/2020' '06/03/2020' '22/01/2020' '23/02/2020'\n",
      " '10/02/2020' '07/02/2020' '09/02/2020' '26/02/2020' '26/01/2020'\n",
      " '13/02/2020' '23/01/2020' '02/02/2020' '04/01/2020' '25/02/2020'\n",
      " '06/01/2020' '20/01/2020' '17/01/2020' '14/02/2020' '02/01/2020'\n",
      " '09/01/2020' '06/02/2020' '16/02/2020' '10/01/2020' '16/01/2020'\n",
      " '25/01/2020' '17/02/2020' '31/01/2020' '18/02/2020' '20/02/2020'\n",
      " '22/02/2020' '18/01/2020' '19/01/2020' '07/01/2020' '21/01/2020'\n",
      " '03/02/2020' '21/02/2020' '04/02/2020' '08/02/2020' '19/02/2020'\n",
      " '03/01/2020' '01/02/2020' '15/02/2020' '11/01/2020' '01/01/2020'\n",
      " '05/01/2020']\n",
      "pneumonia [2 1 3]\n",
      "gravidez [ 3  2  1 98]\n",
      "diabetes [ 2  1 98]\n",
      "asma [ 2  1 98]\n",
      "imunodeficiencia [ 2  1 98]\n",
      "hipertensão [ 2  1 98]\n",
      "outra doença [ 2  1 98]\n",
      "cardiovascular [ 2  1 98]\n",
      "obesidade [ 2  1 98]\n",
      "renal_crônico [ 2  1 98]\n",
      "tabaco [ 2  1 98]\n",
      "contate outro covid [2 3 1]\n",
      "UTI [3 2 1]\n"
     ]
    }
   ],
   "source": [
    "for i in df.columns:\n",
    "    print(i,df[i].unique())"
   ]
  },
  {
   "cell_type": "code",
   "execution_count": 12,
   "metadata": {},
   "outputs": [],
   "source": [
    "## Os valores >= 3 são valores sem resposta (NULOS)"
   ]
  },
  {
   "cell_type": "markdown",
   "metadata": {},
   "source": [
    "Para o primeiro modelo, iremos remover somente os NULOS da variável dependente(UTI).\n",
    "Para as demais variaveis, como 3 e 98 significam a mesma coisa (NULOS) irei substituir 98 por 3 "
   ]
  },
  {
   "cell_type": "code",
   "execution_count": 13,
   "metadata": {},
   "outputs": [],
   "source": [
    "df = df.replace(98,3)"
   ]
  },
  {
   "cell_type": "markdown",
   "metadata": {},
   "source": [
    "#### Removendo os registros em que UTI = 3 (NULO)"
   ]
  },
  {
   "cell_type": "code",
   "execution_count": 14,
   "metadata": {},
   "outputs": [],
   "source": [
    "df = df[df['UTI']!=3]"
   ]
  },
  {
   "cell_type": "markdown",
   "metadata": {},
   "source": [
    "#### Removendo a variavel ID"
   ]
  },
  {
   "cell_type": "code",
   "execution_count": 15,
   "metadata": {},
   "outputs": [],
   "source": [
    "del df['id']"
   ]
  },
  {
   "cell_type": "markdown",
   "metadata": {},
   "source": [
    "A variável data pode conter informações importantes, e portanto seria interessante criar uma lógica para usá-la no modelo.\n",
    "Mas para o primeiro modelo, irei somente removê-la e ver como o modelo performa."
   ]
  },
  {
   "cell_type": "code",
   "execution_count": 16,
   "metadata": {},
   "outputs": [],
   "source": [
    "del df['data_entrada']"
   ]
  },
  {
   "cell_type": "markdown",
   "metadata": {},
   "source": [
    "### Criando Registros Artificialmente"
   ]
  },
  {
   "cell_type": "code",
   "execution_count": 17,
   "metadata": {},
   "outputs": [
    {
     "name": "stderr",
     "output_type": "stream",
     "text": [
      "/opt/anaconda3/lib/python3.8/site-packages/seaborn/_decorators.py:36: FutureWarning: Pass the following variable as a keyword arg: x. From version 0.12, the only valid positional argument will be `data`, and passing other arguments without an explicit keyword will result in an error or misinterpretation.\n",
      "  warnings.warn(\n"
     ]
    },
    {
     "data": {
      "text/plain": [
       "<AxesSubplot:title={'center':'Venda ou Nao'}, xlabel='UTI', ylabel='count'>"
      ]
     },
     "execution_count": 17,
     "metadata": {},
     "output_type": "execute_result"
    },
    {
     "data": {
      "image/png": "[encoded data removed]",
      "text/plain": [
       "<Figure size 432x288 with 1 Axes>"
      ]
     },
     "metadata": {
      "needs_background": "light"
     },
     "output_type": "display_data"
    }
   ],
   "source": [
    "import matplotlib.pyplot as plt\n",
    "import seaborn as sns\n",
    "\n",
    "plt.subplot(1,2,2)\n",
    "plt.title('Venda ou Nao')\n",
    "sns.countplot(df['UTI'])"
   ]
  },
  {
   "cell_type": "code",
   "execution_count": 18,
   "metadata": {},
   "outputs": [
    {
     "data": {
      "text/html": [
       "<div>\n",
       "<style scoped>\n",
       "    .dataframe tbody tr th:only-of-type {\n",
       "        vertical-align: middle;\n",
       "    }\n",
       "\n",
       "    .dataframe tbody tr th {\n",
       "        vertical-align: top;\n",
       "    }\n",
       "\n",
       "    .dataframe thead th {\n",
       "        text-align: right;\n",
       "    }\n",
       "</style>\n",
       "<table border=\"1\" class=\"dataframe\">\n",
       "  <thead>\n",
       "    <tr style=\"text-align: right;\">\n",
       "      <th></th>\n",
       "      <th>sexo</th>\n",
       "      <th>pneumonia</th>\n",
       "      <th>gravidez</th>\n",
       "      <th>diabetes</th>\n",
       "      <th>asma</th>\n",
       "      <th>imunodeficiencia</th>\n",
       "      <th>hipertensão</th>\n",
       "      <th>outra doença</th>\n",
       "      <th>cardiovascular</th>\n",
       "      <th>obesidade</th>\n",
       "      <th>renal_crônico</th>\n",
       "      <th>tabaco</th>\n",
       "      <th>contate outro covid</th>\n",
       "    </tr>\n",
       "  </thead>\n",
       "  <tbody>\n",
       "    <tr>\n",
       "      <th>2</th>\n",
       "      <td>1</td>\n",
       "      <td>2</td>\n",
       "      <td>2</td>\n",
       "      <td>2</td>\n",
       "      <td>2</td>\n",
       "      <td>2</td>\n",
       "      <td>2</td>\n",
       "      <td>2</td>\n",
       "      <td>2</td>\n",
       "      <td>1</td>\n",
       "      <td>2</td>\n",
       "      <td>2</td>\n",
       "      <td>3</td>\n",
       "    </tr>\n",
       "    <tr>\n",
       "      <th>3</th>\n",
       "      <td>2</td>\n",
       "      <td>1</td>\n",
       "      <td>3</td>\n",
       "      <td>2</td>\n",
       "      <td>2</td>\n",
       "      <td>2</td>\n",
       "      <td>2</td>\n",
       "      <td>2</td>\n",
       "      <td>2</td>\n",
       "      <td>2</td>\n",
       "      <td>2</td>\n",
       "      <td>2</td>\n",
       "      <td>3</td>\n",
       "    </tr>\n",
       "    <tr>\n",
       "      <th>4</th>\n",
       "      <td>1</td>\n",
       "      <td>2</td>\n",
       "      <td>2</td>\n",
       "      <td>1</td>\n",
       "      <td>2</td>\n",
       "      <td>2</td>\n",
       "      <td>1</td>\n",
       "      <td>2</td>\n",
       "      <td>1</td>\n",
       "      <td>2</td>\n",
       "      <td>2</td>\n",
       "      <td>2</td>\n",
       "      <td>3</td>\n",
       "    </tr>\n",
       "    <tr>\n",
       "      <th>5</th>\n",
       "      <td>2</td>\n",
       "      <td>1</td>\n",
       "      <td>3</td>\n",
       "      <td>1</td>\n",
       "      <td>2</td>\n",
       "      <td>2</td>\n",
       "      <td>2</td>\n",
       "      <td>2</td>\n",
       "      <td>2</td>\n",
       "      <td>2</td>\n",
       "      <td>2</td>\n",
       "      <td>2</td>\n",
       "      <td>3</td>\n",
       "    </tr>\n",
       "    <tr>\n",
       "      <th>6</th>\n",
       "      <td>2</td>\n",
       "      <td>2</td>\n",
       "      <td>3</td>\n",
       "      <td>2</td>\n",
       "      <td>2</td>\n",
       "      <td>2</td>\n",
       "      <td>1</td>\n",
       "      <td>2</td>\n",
       "      <td>2</td>\n",
       "      <td>2</td>\n",
       "      <td>2</td>\n",
       "      <td>2</td>\n",
       "      <td>3</td>\n",
       "    </tr>\n",
       "  </tbody>\n",
       "</table>\n",
       "</div>"
      ],
      "text/plain": [
       "   sexo  pneumonia  gravidez  diabetes  asma  imunodeficiencia  hipertensão  \\\n",
       "2     1          2         2         2     2                 2            2   \n",
       "3     2          1         3         2     2                 2            2   \n",
       "4     1          2         2         1     2                 2            1   \n",
       "5     2          1         3         1     2                 2            2   \n",
       "6     2          2         3         2     2                 2            1   \n",
       "\n",
       "   outra doença  cardiovascular  obesidade  renal_crônico  tabaco  \\\n",
       "2             2               2          1              2       2   \n",
       "3             2               2          2              2       2   \n",
       "4             2               1          2              2       2   \n",
       "5             2               2          2              2       2   \n",
       "6             2               2          2              2       2   \n",
       "\n",
       "   contate outro covid  \n",
       "2                    3  \n",
       "3                    3  \n",
       "4                    3  \n",
       "5                    3  \n",
       "6                    3  "
      ]
     },
     "execution_count": 18,
     "metadata": {},
     "output_type": "execute_result"
    }
   ],
   "source": [
    "df.iloc[:,0:13].head()"
   ]
  },
  {
   "cell_type": "code",
   "execution_count": 20,
   "metadata": {
    "scrolled": true
   },
   "outputs": [
    {
     "data": {
      "text/plain": [
       "2         2\n",
       "3         2\n",
       "4         2\n",
       "5         1\n",
       "6         2\n",
       "         ..\n",
       "566584    2\n",
       "566590    1\n",
       "566591    1\n",
       "566593    2\n",
       "566599    2\n",
       "Name: UTI, Length: 121788, dtype: int64"
      ]
     },
     "execution_count": 20,
     "metadata": {},
     "output_type": "execute_result"
    }
   ],
   "source": [
    "df.iloc[:,13]"
   ]
  },
  {
   "cell_type": "code",
   "execution_count": 21,
   "metadata": {},
   "outputs": [
    {
     "name": "stderr",
     "output_type": "stream",
     "text": [
      "/opt/anaconda3/lib/python3.8/site-packages/seaborn/_decorators.py:36: FutureWarning: Pass the following variable as a keyword arg: x. From version 0.12, the only valid positional argument will be `data`, and passing other arguments without an explicit keyword will result in an error or misinterpretation.\n",
      "  warnings.warn(\n"
     ]
    },
    {
     "data": {
      "image/png": "[encoded data removed]",
      "text/plain": [
       "<Figure size 432x288 with 1 Axes>"
      ]
     },
     "metadata": {
      "needs_background": "light"
     },
     "output_type": "display_data"
    }
   ],
   "source": [
    "import imblearn\n",
    "from imblearn.over_sampling import SMOTE\n",
    "\n",
    "seed = 14\n",
    "\n",
    "x = df.iloc[:,0:13]\n",
    "y = df.iloc[:,13]\n",
    "\n",
    "smote_bal = SMOTE(random_state = seed)\n",
    "\n",
    "x_res,y_res = smote_bal.fit_resample(x,y)\n",
    "\n",
    "x = x_res\n",
    "y = y_res\n",
    "\n",
    "\n",
    "sns.countplot(y_res, palette = 'OrRd')\n",
    "plt.box(False)\n",
    "plt.xlabel(\"Receita Não (0) / Sim(1)\", fontsize = 11)\n",
    "plt.xlabel(\"Total de Sessoes\", fontsize = 11)\n",
    "plt.show()"
   ]
  },
  {
   "cell_type": "markdown",
   "metadata": {},
   "source": [
    "### Dividindo o Dataset entre Treino e Teste "
   ]
  },
  {
   "cell_type": "code",
   "execution_count": 22,
   "metadata": {},
   "outputs": [],
   "source": [
    "from sklearn.model_selection import train_test_split\n",
    "\n",
    "x_train, x_test, y_train, y_test = train_test_split(x,y,test_size = 0.3)"
   ]
  },
  {
   "cell_type": "code",
   "execution_count": 32,
   "metadata": {},
   "outputs": [],
   "source": [
    "## Padronizando\n",
    "from sklearn.preprocessing import StandardScaler\n",
    "\n",
    "sc = StandardScaler()\n",
    "x_train = sc.fit_transform(x_train)\n",
    "x_test = sc.fit_transform(x_test)"
   ]
  },
  {
   "cell_type": "markdown",
   "metadata": {},
   "source": [
    "### Criando o Primeiro Modelo"
   ]
  },
  {
   "cell_type": "code",
   "execution_count": 33,
   "metadata": {},
   "outputs": [],
   "source": [
    "from sklearn.linear_model import LogisticRegression"
   ]
  },
  {
   "cell_type": "code",
   "execution_count": 34,
   "metadata": {},
   "outputs": [
    {
     "data": {
      "text/plain": [
       "LogisticRegression()"
      ]
     },
     "execution_count": 34,
     "metadata": {},
     "output_type": "execute_result"
    }
   ],
   "source": [
    "modelo1 = LogisticRegression()\n",
    "modelo1.fit(x_train,y_train)"
   ]
  },
  {
   "cell_type": "code",
   "execution_count": 36,
   "metadata": {},
   "outputs": [],
   "source": [
    "p1_train = modelo1.predict(x_train)"
   ]
  },
  {
   "cell_type": "markdown",
   "metadata": {},
   "source": [
    "#### Acuracia para os dados de Treino"
   ]
  },
  {
   "cell_type": "code",
   "execution_count": 37,
   "metadata": {},
   "outputs": [
    {
     "name": "stdout",
     "output_type": "stream",
     "text": [
      "66.56 %\n"
     ]
    }
   ],
   "source": [
    "import numpy as np\n",
    "acc1_train = np.mean(p1_train == y_train)\n",
    "print(round(acc1_train*100,2),'%')"
   ]
  },
  {
   "cell_type": "code",
   "execution_count": 38,
   "metadata": {},
   "outputs": [
    {
     "name": "stdout",
     "output_type": "stream",
     "text": [
      "[[53047 25207]\n",
      " [27072 51020]]\n"
     ]
    }
   ],
   "source": [
    "## Matriz de Confusão\n",
    "\n",
    "from sklearn.metrics import confusion_matrix\n",
    "\n",
    "print(confusion_matrix(y_train,  p1_train))"
   ]
  },
  {
   "cell_type": "markdown",
   "metadata": {},
   "source": [
    "#### Acuracia para os dados de Teste"
   ]
  },
  {
   "cell_type": "code",
   "execution_count": 39,
   "metadata": {},
   "outputs": [
    {
     "name": "stdout",
     "output_type": "stream",
     "text": [
      "66.19 %\n"
     ]
    }
   ],
   "source": [
    "p1_test = modelo1.predict(x_test)\n",
    "acc1_test = np.mean(p1_test == y_test)\n",
    "print(round(acc1_test*100,2),'%')"
   ]
  },
  {
   "cell_type": "code",
   "execution_count": 40,
   "metadata": {},
   "outputs": [
    {
     "name": "stdout",
     "output_type": "stream",
     "text": [
      "[[22553 10869]\n",
      " [11783 21801]]\n"
     ]
    }
   ],
   "source": [
    "### Matriz de Confusão\n",
    "\n",
    "from sklearn.metrics import confusion_matrix\n",
    "\n",
    "print(confusion_matrix(y_test, p1_test))"
   ]
  },
  {
   "cell_type": "code",
   "execution_count": 41,
   "metadata": {},
   "outputs": [
    {
     "data": {
      "text/plain": [
       "2    111676\n",
       "1     10112\n",
       "Name: UTI, dtype: int64"
      ]
     },
     "execution_count": 41,
     "metadata": {},
     "output_type": "execute_result"
    }
   ],
   "source": [
    "df['UTI'].value_counts()"
   ]
  },
  {
   "cell_type": "markdown",
   "metadata": {},
   "source": [
    "Ao aplicar o imblearn, conseguimos remover o viés do modelo, porém a acurácia não foi boa. Entretanto, nao foi caracterizado overfitting."
   ]
  },
  {
   "cell_type": "markdown",
   "metadata": {},
   "source": [
    "### Modelo 2 \n",
    "##### Observações:\n",
    "        * Removendo registros com dados nulos para qualquer variável ( nao somente para a variavel UTI)\n",
    "        * Removendo a variavel data_entrada"
   ]
  },
  {
   "cell_type": "code",
   "execution_count": 42,
   "metadata": {},
   "outputs": [],
   "source": [
    "df2 = pd.read_csv('covid_ml-2-2.csv',sep = ';',encoding='latin-1')"
   ]
  },
  {
   "cell_type": "code",
   "execution_count": 43,
   "metadata": {},
   "outputs": [],
   "source": [
    "df2 = df2.drop(axis = 1, columns = ['id','data_entrada'])"
   ]
  },
  {
   "cell_type": "code",
   "execution_count": 44,
   "metadata": {},
   "outputs": [
    {
     "name": "stdout",
     "output_type": "stream",
     "text": [
      "sexo [2 1]\n",
      "pneumonia [2 1 3]\n",
      "gravidez [ 3  2  1 98]\n",
      "diabetes [ 2  1 98]\n",
      "asma [ 2  1 98]\n",
      "imunodeficiencia [ 2  1 98]\n",
      "hipertensão [ 2  1 98]\n",
      "outra doença [ 2  1 98]\n",
      "cardiovascular [ 2  1 98]\n",
      "obesidade [ 2  1 98]\n",
      "renal_crônico [ 2  1 98]\n",
      "tabaco [ 2  1 98]\n",
      "contate outro covid [2 3 1]\n",
      "UTI [3 2 1]\n"
     ]
    }
   ],
   "source": [
    "for i in df2.columns:\n",
    "    print(i,df2[i].unique())"
   ]
  },
  {
   "cell_type": "code",
   "execution_count": 45,
   "metadata": {},
   "outputs": [],
   "source": [
    "df2 = df2.replace(98,3)"
   ]
  },
  {
   "cell_type": "markdown",
   "metadata": {},
   "source": [
    "#### Removendo os registros NULOS (=3)"
   ]
  },
  {
   "cell_type": "code",
   "execution_count": 46,
   "metadata": {},
   "outputs": [],
   "source": [
    "for i in df2.columns:\n",
    "    df2 = df2[df2[i]!=3]"
   ]
  },
  {
   "cell_type": "code",
   "execution_count": 47,
   "metadata": {},
   "outputs": [
    {
     "name": "stdout",
     "output_type": "stream",
     "text": [
      "sexo [1]\n",
      "pneumonia [2 1]\n",
      "gravidez [2 1]\n",
      "diabetes [2 1]\n",
      "asma [2 1]\n",
      "imunodeficiencia [2 1]\n",
      "hipertensão [2 1]\n",
      "outra doença [2 1]\n",
      "cardiovascular [2 1]\n",
      "obesidade [2 1]\n",
      "renal_crônico [2 1]\n",
      "tabaco [2 1]\n",
      "contate outro covid [1 2]\n",
      "UTI [2 1]\n"
     ]
    }
   ],
   "source": [
    "for i in df2.columns:\n",
    "    print(i,df2[i].unique())"
   ]
  },
  {
   "cell_type": "markdown",
   "metadata": {},
   "source": [
    "#### Após remover os registros que contiam alguma variável NULA, a váriavel sexo passou a ter somente o valor 1, então não faz sentido usá-la nesse modelo"
   ]
  },
  {
   "cell_type": "code",
   "execution_count": 26,
   "metadata": {},
   "outputs": [],
   "source": [
    "df2 = df2.drop(axis = 1, columns ='sexo')"
   ]
  },
  {
   "cell_type": "code",
   "execution_count": 49,
   "metadata": {},
   "outputs": [
    {
     "name": "stderr",
     "output_type": "stream",
     "text": [
      "/opt/anaconda3/lib/python3.8/site-packages/seaborn/_decorators.py:36: FutureWarning: Pass the following variable as a keyword arg: x. From version 0.12, the only valid positional argument will be `data`, and passing other arguments without an explicit keyword will result in an error or misinterpretation.\n",
      "  warnings.warn(\n"
     ]
    },
    {
     "data": {
      "text/plain": [
       "<AxesSubplot:title={'center':'Venda ou Nao'}, xlabel='UTI', ylabel='count'>"
      ]
     },
     "execution_count": 49,
     "metadata": {},
     "output_type": "execute_result"
    },
    {
     "data": {
      "image/png": "[encoded data removed]",
      "text/plain": [
       "<Figure size 432x288 with 1 Axes>"
      ]
     },
     "metadata": {
      "needs_background": "light"
     },
     "output_type": "display_data"
    }
   ],
   "source": [
    "### Criando Registros\n",
    "import matplotlib.pyplot as plt\n",
    "import seaborn as sns\n",
    "\n",
    "plt.subplot(1,2,2)\n",
    "plt.title('Venda ou Nao')\n",
    "sns.countplot(df2['UTI'])"
   ]
  },
  {
   "cell_type": "code",
   "execution_count": 51,
   "metadata": {},
   "outputs": [
    {
     "name": "stderr",
     "output_type": "stream",
     "text": [
      "/opt/anaconda3/lib/python3.8/site-packages/seaborn/_decorators.py:36: FutureWarning: Pass the following variable as a keyword arg: x. From version 0.12, the only valid positional argument will be `data`, and passing other arguments without an explicit keyword will result in an error or misinterpretation.\n",
      "  warnings.warn(\n"
     ]
    },
    {
     "data": {
      "image/png": "[encoded data removed]",
      "text/plain": [
       "<Figure size 432x288 with 1 Axes>"
      ]
     },
     "metadata": {
      "needs_background": "light"
     },
     "output_type": "display_data"
    }
   ],
   "source": [
    "seed = 14\n",
    "\n",
    "x = df2.iloc[:,0:13]\n",
    "y = df2.iloc[:,13]\n",
    "\n",
    "smote_bal = SMOTE(random_state = seed)\n",
    "\n",
    "x_res,y_res = smote_bal.fit_resample(x,y)\n",
    "\n",
    "x = x_res\n",
    "y = y_res\n",
    "\n",
    "\n",
    "sns.countplot(y_res, palette = 'OrRd')\n",
    "plt.box(False)\n",
    "plt.xlabel(\"Receita Não (0) / Sim(1)\", fontsize = 11)\n",
    "plt.xlabel(\"Total de Sessoes\", fontsize = 11)\n",
    "plt.show()"
   ]
  },
  {
   "cell_type": "code",
   "execution_count": 52,
   "metadata": {},
   "outputs": [],
   "source": [
    "from sklearn.model_selection import train_test_split\n",
    "x_train2, x_test2, y_train2, y_test2 = train_test_split(x,y,test_size = 0.3)"
   ]
  },
  {
   "cell_type": "code",
   "execution_count": 53,
   "metadata": {},
   "outputs": [],
   "source": [
    "## Padronizando\n",
    "sc = StandardScaler()\n",
    "x_train2 = sc.fit_transform(x_train2)\n",
    "x_test2 = sc.fit_transform(x_test2)"
   ]
  },
  {
   "cell_type": "code",
   "execution_count": 54,
   "metadata": {},
   "outputs": [
    {
     "data": {
      "text/plain": [
       "LogisticRegression()"
      ]
     },
     "execution_count": 54,
     "metadata": {},
     "output_type": "execute_result"
    }
   ],
   "source": [
    "modelo2 = LogisticRegression()\n",
    "modelo2.fit(x_train2,y_train2)"
   ]
  },
  {
   "cell_type": "markdown",
   "metadata": {},
   "source": [
    "#### Acurácia para os dados de Treino"
   ]
  },
  {
   "cell_type": "code",
   "execution_count": 55,
   "metadata": {},
   "outputs": [
    {
     "name": "stdout",
     "output_type": "stream",
     "text": [
      "58.9 %\n",
      "[[11404  2882]\n",
      " [ 8892  5467]]\n"
     ]
    }
   ],
   "source": [
    "p2_train = modelo2.predict(x_train2)\n",
    "acc2_train = np.mean(p2_train == y_train2)\n",
    "print(round(acc2_train*100,2),'%')\n",
    "print(confusion_matrix(y_train2,p2_train))"
   ]
  },
  {
   "cell_type": "markdown",
   "metadata": {},
   "source": [
    "#### Acurácia para os dados de Teste"
   ]
  },
  {
   "cell_type": "code",
   "execution_count": 56,
   "metadata": {},
   "outputs": [
    {
     "name": "stdout",
     "output_type": "stream",
     "text": [
      "59.16 %\n",
      "[[4935 1240]\n",
      " [3774 2328]]\n"
     ]
    }
   ],
   "source": [
    "p2_test = modelo2.predict(x_test2)\n",
    "acc2_test = np.mean(p2_test == y_test2)\n",
    "print(round(acc2_test*100,2),'%')\n",
    "print(confusion_matrix(y_test2,p2_test))"
   ]
  },
  {
   "cell_type": "markdown",
   "metadata": {},
   "source": [
    "##### O Modelo 2 apresentou um comportamento semelhante ao modelo 1, porem com uma acurácia pior.\n"
   ]
  },
  {
   "cell_type": "markdown",
   "metadata": {},
   "source": [
    "### "
   ]
  },
  {
   "cell_type": "markdown",
   "metadata": {},
   "source": [
    "### Modelo 3\n",
    "#### Consideracões:\n",
    "                    * Assim como no modelo 1, iremos remover somente os registros que possuem UTI nulo\n",
    "                    * Aplicaremos uma tratativa para o campo de data transformando ele em semana do ano"
   ]
  },
  {
   "cell_type": "code",
   "execution_count": 59,
   "metadata": {},
   "outputs": [],
   "source": [
    "df3 = pd.read_csv('covid_ml-2-2.csv',sep = ';',encoding='latin-1')"
   ]
  },
  {
   "cell_type": "code",
   "execution_count": 60,
   "metadata": {},
   "outputs": [
    {
     "name": "stdout",
     "output_type": "stream",
     "text": [
      "id ['16169f' '1009bf' '167386' ... '1beb81' '16fb02' '0021c9']\n",
      "sexo [2 1]\n",
      "data_entrada ['04/05/2020' '19/03/2020' '06/04/2020' '17/04/2020' '13/04/2020'\n",
      " '16/04/2020' '22/04/2020' '21/05/2020' '23/04/2020' '29/04/2020'\n",
      " '02/05/2020' '25/05/2020' '07/06/2020' '20/06/2020' '24/06/2020'\n",
      " '30/04/2020' '05/05/2020' '12/05/2020' '19/04/2020' '02/06/2020'\n",
      " '25/04/2020' '15/05/2020' '27/04/2020' '01/04/2020' '22/06/2020'\n",
      " '21/04/2020' '24/04/2020' '20/04/2020' '28/04/2020' '26/04/2020'\n",
      " '19/06/2020' '31/03/2020' '03/04/2020' '14/04/2020' '12/04/2020'\n",
      " '29/03/2020' '06/05/2020' '11/06/2020' '10/06/2020' '02/04/2020'\n",
      " '19/05/2020' '05/06/2020' '17/06/2020' '10/04/2020' '03/05/2020'\n",
      " '16/06/2020' '30/03/2020' '15/04/2020' '08/06/2020' '15/06/2020'\n",
      " '25/03/2020' '25/06/2020' '08/04/2020' '27/05/2020' '20/05/2020'\n",
      " '01/06/2020' '18/06/2020' '07/05/2020' '08/05/2020' '29/05/2020'\n",
      " '07/04/2020' '11/04/2020' '23/03/2020' '11/05/2020' '18/04/2020'\n",
      " '17/05/2020' '22/05/2020' '05/04/2020' '23/06/2020' '24/03/2020'\n",
      " '12/06/2020' '30/05/2020' '13/05/2020' '26/03/2020' '16/05/2020'\n",
      " '04/04/2020' '20/03/2020' '17/03/2020' '01/05/2020' '31/05/2020'\n",
      " '21/06/2020' '22/03/2020' '09/06/2020' '14/06/2020' '10/05/2020'\n",
      " '14/05/2020' '04/06/2020' '06/06/2020' '18/05/2020' '13/06/2020'\n",
      " '09/04/2020' '09/05/2020' '28/05/2020' '03/06/2020' '26/05/2020'\n",
      " '18/03/2020' '24/05/2020' '28/03/2020' '27/03/2020' '26/06/2020'\n",
      " '21/03/2020' '23/05/2020' '13/01/2020' '28/06/2020' '27/06/2020'\n",
      " '12/03/2020' '14/03/2020' '29/06/2020' '27/02/2020' '16/03/2020'\n",
      " '11/03/2020' '13/03/2020' '15/03/2020' '04/03/2020' '07/03/2020'\n",
      " '28/02/2020' '02/03/2020' '12/02/2020' '10/03/2020' '14/01/2020'\n",
      " '08/03/2020' '09/03/2020' '28/01/2020' '05/03/2020' '29/02/2020'\n",
      " '29/01/2020' '05/02/2020' '24/02/2020' '12/01/2020' '03/03/2020'\n",
      " '27/01/2020' '11/02/2020' '01/03/2020' '30/01/2020' '08/01/2020'\n",
      " '15/01/2020' '24/01/2020' '06/03/2020' '22/01/2020' '23/02/2020'\n",
      " '10/02/2020' '07/02/2020' '09/02/2020' '26/02/2020' '26/01/2020'\n",
      " '13/02/2020' '23/01/2020' '02/02/2020' '04/01/2020' '25/02/2020'\n",
      " '06/01/2020' '20/01/2020' '17/01/2020' '14/02/2020' '02/01/2020'\n",
      " '09/01/2020' '06/02/2020' '16/02/2020' '10/01/2020' '16/01/2020'\n",
      " '25/01/2020' '17/02/2020' '31/01/2020' '18/02/2020' '20/02/2020'\n",
      " '22/02/2020' '18/01/2020' '19/01/2020' '07/01/2020' '21/01/2020'\n",
      " '03/02/2020' '21/02/2020' '04/02/2020' '08/02/2020' '19/02/2020'\n",
      " '03/01/2020' '01/02/2020' '15/02/2020' '11/01/2020' '01/01/2020'\n",
      " '05/01/2020']\n",
      "pneumonia [2 1 3]\n",
      "gravidez [ 3  2  1 98]\n",
      "diabetes [ 2  1 98]\n",
      "asma [ 2  1 98]\n",
      "imunodeficiencia [ 2  1 98]\n",
      "hipertensão [ 2  1 98]\n",
      "outra doença [ 2  1 98]\n",
      "cardiovascular [ 2  1 98]\n",
      "obesidade [ 2  1 98]\n",
      "renal_crônico [ 2  1 98]\n",
      "tabaco [ 2  1 98]\n",
      "contate outro covid [2 3 1]\n",
      "UTI [3 2 1]\n"
     ]
    }
   ],
   "source": [
    "for i in df3.columns:\n",
    "    print(i,df3[i].unique())"
   ]
  },
  {
   "cell_type": "code",
   "execution_count": 61,
   "metadata": {},
   "outputs": [],
   "source": [
    "df3 = df3.replace(98,3)"
   ]
  },
  {
   "cell_type": "markdown",
   "metadata": {},
   "source": [
    "#### Criando uma função que retorna a semana do ano."
   ]
  },
  {
   "cell_type": "code",
   "execution_count": 62,
   "metadata": {},
   "outputs": [],
   "source": [
    "def SemanaDoAno(s):\n",
    "    ano = int(s[6:])\n",
    "    mes = int(s[4])\n",
    "    dia = int(s[0:2])\n",
    "    \n",
    "    import datetime\n",
    "    semana = int(datetime.date(ano,mes,dia).strftime(\"%U\"))\n",
    "    return semana"
   ]
  },
  {
   "cell_type": "markdown",
   "metadata": {},
   "source": [
    "#### Criando coluna Nova: semana_do_ano"
   ]
  },
  {
   "cell_type": "code",
   "execution_count": 63,
   "metadata": {},
   "outputs": [],
   "source": [
    "df3['semana_do_ano'] = df3['data_entrada'].map(SemanaDoAno)"
   ]
  },
  {
   "cell_type": "markdown",
   "metadata": {},
   "source": [
    "#### Dropando colunas que não serão usadas"
   ]
  },
  {
   "cell_type": "code",
   "execution_count": 64,
   "metadata": {},
   "outputs": [],
   "source": [
    "df3 = df3.drop(axis = 1,columns = ['id','data_entrada'])"
   ]
  },
  {
   "cell_type": "markdown",
   "metadata": {},
   "source": [
    "#### Removendo os registros com UTI NULO (3)"
   ]
  },
  {
   "cell_type": "code",
   "execution_count": 65,
   "metadata": {},
   "outputs": [],
   "source": [
    "df3 = df3[df3['UTI']!=3]"
   ]
  },
  {
   "cell_type": "markdown",
   "metadata": {},
   "source": [
    "#### Criando registros Artificialmente"
   ]
  },
  {
   "cell_type": "code",
   "execution_count": 67,
   "metadata": {},
   "outputs": [
    {
     "name": "stderr",
     "output_type": "stream",
     "text": [
      "/opt/anaconda3/lib/python3.8/site-packages/seaborn/_decorators.py:36: FutureWarning: Pass the following variable as a keyword arg: x. From version 0.12, the only valid positional argument will be `data`, and passing other arguments without an explicit keyword will result in an error or misinterpretation.\n",
      "  warnings.warn(\n"
     ]
    },
    {
     "data": {
      "text/plain": [
       "<AxesSubplot:title={'center':'Venda ou Nao'}, xlabel='UTI', ylabel='count'>"
      ]
     },
     "execution_count": 67,
     "metadata": {},
     "output_type": "execute_result"
    },
    {
     "data": {
      "image/png": "[encoded data removed]",
      "text/plain": [
       "<Figure size 432x288 with 1 Axes>"
      ]
     },
     "metadata": {
      "needs_background": "light"
     },
     "output_type": "display_data"
    }
   ],
   "source": [
    "plt.subplot(1,2,2)\n",
    "plt.title('Venda ou Nao')\n",
    "sns.countplot(df3['UTI'])"
   ]
  },
  {
   "cell_type": "code",
   "execution_count": 68,
   "metadata": {},
   "outputs": [
    {
     "name": "stderr",
     "output_type": "stream",
     "text": [
      "/opt/anaconda3/lib/python3.8/site-packages/seaborn/_decorators.py:36: FutureWarning: Pass the following variable as a keyword arg: x. From version 0.12, the only valid positional argument will be `data`, and passing other arguments without an explicit keyword will result in an error or misinterpretation.\n",
      "  warnings.warn(\n"
     ]
    },
    {
     "data": {
      "image/png": "[encoded data removed]",
      "text/plain": [
       "<Figure size 432x288 with 1 Axes>"
      ]
     },
     "metadata": {
      "needs_background": "light"
     },
     "output_type": "display_data"
    }
   ],
   "source": [
    "seed = 14\n",
    "\n",
    "x = df3.iloc[:,0:13]\n",
    "y = df3.iloc[:,13]\n",
    "\n",
    "smote_bal = SMOTE(random_state = seed)\n",
    "\n",
    "x_res,y_res = smote_bal.fit_resample(x,y)\n",
    "\n",
    "x = x_res\n",
    "y = y_res\n",
    "\n",
    "\n",
    "sns.countplot(y_res, palette = 'OrRd')\n",
    "plt.box(False)\n",
    "plt.xlabel(\"Receita Não (0) / Sim(1)\", fontsize = 11)\n",
    "plt.xlabel(\"Total de Sessoes\", fontsize = 11)\n",
    "plt.show()"
   ]
  },
  {
   "cell_type": "code",
   "execution_count": 69,
   "metadata": {},
   "outputs": [],
   "source": [
    "from sklearn.model_selection import train_test_split\n",
    "x_train3, x_test3, y_train3, y_test3 = train_test_split(x,y,test_size = 0.3)"
   ]
  },
  {
   "cell_type": "code",
   "execution_count": 87,
   "metadata": {},
   "outputs": [],
   "source": [
    "## Padronizando\n",
    "sc = StandardScaler()\n",
    "x_train3 = sc.fit_transform(x_train3)\n",
    "x_test3 = sc.fit_transform(x_test3)"
   ]
  },
  {
   "cell_type": "code",
   "execution_count": 88,
   "metadata": {},
   "outputs": [
    {
     "data": {
      "text/plain": [
       "LogisticRegression(max_iter=1000)"
      ]
     },
     "execution_count": 88,
     "metadata": {},
     "output_type": "execute_result"
    }
   ],
   "source": [
    "modelo3 = LogisticRegression(solver='lbfgs', max_iter = 1000 )\n",
    "modelo3.fit(x_train3,y_train3)"
   ]
  },
  {
   "cell_type": "code",
   "execution_count": 89,
   "metadata": {},
   "outputs": [
    {
     "name": "stdout",
     "output_type": "stream",
     "text": [
      "66.39 %\n",
      "[[53142 25004]\n",
      " [27546 50654]]\n"
     ]
    }
   ],
   "source": [
    "p3_train = modelo3.predict(x_train3)\n",
    "acc3_train = np.mean(p3_train == y_train3)\n",
    "print(round(acc3_train*100,2),'%')\n",
    "print(confusion_matrix(y_train3, p3_train))"
   ]
  },
  {
   "cell_type": "code",
   "execution_count": 90,
   "metadata": {},
   "outputs": [
    {
     "name": "stdout",
     "output_type": "stream",
     "text": [
      "66.72 %\n",
      "[[22808 10722]\n",
      " [11577 21899]]\n"
     ]
    }
   ],
   "source": [
    "p3_test = modelo3.predict(x_test3)\n",
    "acc3_test = np.mean(p3_test == y_test3)\n",
    "print(round(acc3_test*100,2),'%')\n",
    "print(confusion_matrix(y_test3, p3_test))"
   ]
  },
  {
   "cell_type": "markdown",
   "metadata": {},
   "source": [
    "#### O resultado foi muito próximo ao primeiro modelo. Faremos um último modelo transformando a data em mes"
   ]
  },
  {
   "cell_type": "markdown",
   "metadata": {},
   "source": [
    "### Modelo 4 :\n",
    "#### Consideracões:\n",
    "                    * Assim como no modelo 1, iremos remover somente os registros que possuem UTI nulo\n",
    "                    * Aplicaremos uma tratativa para o campo de data transformando ele em mês."
   ]
  },
  {
   "cell_type": "code",
   "execution_count": 74,
   "metadata": {},
   "outputs": [],
   "source": [
    "df4 = pd.read_csv('covid_ml-2-2.csv',sep = ';',encoding='latin-1')"
   ]
  },
  {
   "cell_type": "code",
   "execution_count": 75,
   "metadata": {},
   "outputs": [
    {
     "name": "stdout",
     "output_type": "stream",
     "text": [
      "id ['16169f' '1009bf' '167386' ... '1beb81' '16fb02' '0021c9']\n",
      "sexo [2 1]\n",
      "data_entrada ['04/05/2020' '19/03/2020' '06/04/2020' '17/04/2020' '13/04/2020'\n",
      " '16/04/2020' '22/04/2020' '21/05/2020' '23/04/2020' '29/04/2020'\n",
      " '02/05/2020' '25/05/2020' '07/06/2020' '20/06/2020' '24/06/2020'\n",
      " '30/04/2020' '05/05/2020' '12/05/2020' '19/04/2020' '02/06/2020'\n",
      " '25/04/2020' '15/05/2020' '27/04/2020' '01/04/2020' '22/06/2020'\n",
      " '21/04/2020' '24/04/2020' '20/04/2020' '28/04/2020' '26/04/2020'\n",
      " '19/06/2020' '31/03/2020' '03/04/2020' '14/04/2020' '12/04/2020'\n",
      " '29/03/2020' '06/05/2020' '11/06/2020' '10/06/2020' '02/04/2020'\n",
      " '19/05/2020' '05/06/2020' '17/06/2020' '10/04/2020' '03/05/2020'\n",
      " '16/06/2020' '30/03/2020' '15/04/2020' '08/06/2020' '15/06/2020'\n",
      " '25/03/2020' '25/06/2020' '08/04/2020' '27/05/2020' '20/05/2020'\n",
      " '01/06/2020' '18/06/2020' '07/05/2020' '08/05/2020' '29/05/2020'\n",
      " '07/04/2020' '11/04/2020' '23/03/2020' '11/05/2020' '18/04/2020'\n",
      " '17/05/2020' '22/05/2020' '05/04/2020' '23/06/2020' '24/03/2020'\n",
      " '12/06/2020' '30/05/2020' '13/05/2020' '26/03/2020' '16/05/2020'\n",
      " '04/04/2020' '20/03/2020' '17/03/2020' '01/05/2020' '31/05/2020'\n",
      " '21/06/2020' '22/03/2020' '09/06/2020' '14/06/2020' '10/05/2020'\n",
      " '14/05/2020' '04/06/2020' '06/06/2020' '18/05/2020' '13/06/2020'\n",
      " '09/04/2020' '09/05/2020' '28/05/2020' '03/06/2020' '26/05/2020'\n",
      " '18/03/2020' '24/05/2020' '28/03/2020' '27/03/2020' '26/06/2020'\n",
      " '21/03/2020' '23/05/2020' '13/01/2020' '28/06/2020' '27/06/2020'\n",
      " '12/03/2020' '14/03/2020' '29/06/2020' '27/02/2020' '16/03/2020'\n",
      " '11/03/2020' '13/03/2020' '15/03/2020' '04/03/2020' '07/03/2020'\n",
      " '28/02/2020' '02/03/2020' '12/02/2020' '10/03/2020' '14/01/2020'\n",
      " '08/03/2020' '09/03/2020' '28/01/2020' '05/03/2020' '29/02/2020'\n",
      " '29/01/2020' '05/02/2020' '24/02/2020' '12/01/2020' '03/03/2020'\n",
      " '27/01/2020' '11/02/2020' '01/03/2020' '30/01/2020' '08/01/2020'\n",
      " '15/01/2020' '24/01/2020' '06/03/2020' '22/01/2020' '23/02/2020'\n",
      " '10/02/2020' '07/02/2020' '09/02/2020' '26/02/2020' '26/01/2020'\n",
      " '13/02/2020' '23/01/2020' '02/02/2020' '04/01/2020' '25/02/2020'\n",
      " '06/01/2020' '20/01/2020' '17/01/2020' '14/02/2020' '02/01/2020'\n",
      " '09/01/2020' '06/02/2020' '16/02/2020' '10/01/2020' '16/01/2020'\n",
      " '25/01/2020' '17/02/2020' '31/01/2020' '18/02/2020' '20/02/2020'\n",
      " '22/02/2020' '18/01/2020' '19/01/2020' '07/01/2020' '21/01/2020'\n",
      " '03/02/2020' '21/02/2020' '04/02/2020' '08/02/2020' '19/02/2020'\n",
      " '03/01/2020' '01/02/2020' '15/02/2020' '11/01/2020' '01/01/2020'\n",
      " '05/01/2020']\n",
      "pneumonia [2 1 3]\n",
      "gravidez [ 3  2  1 98]\n",
      "diabetes [ 2  1 98]\n",
      "asma [ 2  1 98]\n",
      "imunodeficiencia [ 2  1 98]\n",
      "hipertensão [ 2  1 98]\n",
      "outra doença [ 2  1 98]\n",
      "cardiovascular [ 2  1 98]\n",
      "obesidade [ 2  1 98]\n",
      "renal_crônico [ 2  1 98]\n",
      "tabaco [ 2  1 98]\n",
      "contate outro covid [2 3 1]\n",
      "UTI [3 2 1]\n"
     ]
    }
   ],
   "source": [
    "for i in df4.columns:\n",
    "    print(i,df4[i].unique())"
   ]
  },
  {
   "cell_type": "code",
   "execution_count": 76,
   "metadata": {},
   "outputs": [],
   "source": [
    "df4 = df4.replace(98,3)"
   ]
  },
  {
   "cell_type": "code",
   "execution_count": 77,
   "metadata": {},
   "outputs": [
    {
     "name": "stdout",
     "output_type": "stream",
     "text": [
      "id ['16169f' '1009bf' '167386' ... '1beb81' '16fb02' '0021c9']\n",
      "sexo [2 1]\n",
      "data_entrada ['04/05/2020' '19/03/2020' '06/04/2020' '17/04/2020' '13/04/2020'\n",
      " '16/04/2020' '22/04/2020' '21/05/2020' '23/04/2020' '29/04/2020'\n",
      " '02/05/2020' '25/05/2020' '07/06/2020' '20/06/2020' '24/06/2020'\n",
      " '30/04/2020' '05/05/2020' '12/05/2020' '19/04/2020' '02/06/2020'\n",
      " '25/04/2020' '15/05/2020' '27/04/2020' '01/04/2020' '22/06/2020'\n",
      " '21/04/2020' '24/04/2020' '20/04/2020' '28/04/2020' '26/04/2020'\n",
      " '19/06/2020' '31/03/2020' '03/04/2020' '14/04/2020' '12/04/2020'\n",
      " '29/03/2020' '06/05/2020' '11/06/2020' '10/06/2020' '02/04/2020'\n",
      " '19/05/2020' '05/06/2020' '17/06/2020' '10/04/2020' '03/05/2020'\n",
      " '16/06/2020' '30/03/2020' '15/04/2020' '08/06/2020' '15/06/2020'\n",
      " '25/03/2020' '25/06/2020' '08/04/2020' '27/05/2020' '20/05/2020'\n",
      " '01/06/2020' '18/06/2020' '07/05/2020' '08/05/2020' '29/05/2020'\n",
      " '07/04/2020' '11/04/2020' '23/03/2020' '11/05/2020' '18/04/2020'\n",
      " '17/05/2020' '22/05/2020' '05/04/2020' '23/06/2020' '24/03/2020'\n",
      " '12/06/2020' '30/05/2020' '13/05/2020' '26/03/2020' '16/05/2020'\n",
      " '04/04/2020' '20/03/2020' '17/03/2020' '01/05/2020' '31/05/2020'\n",
      " '21/06/2020' '22/03/2020' '09/06/2020' '14/06/2020' '10/05/2020'\n",
      " '14/05/2020' '04/06/2020' '06/06/2020' '18/05/2020' '13/06/2020'\n",
      " '09/04/2020' '09/05/2020' '28/05/2020' '03/06/2020' '26/05/2020'\n",
      " '18/03/2020' '24/05/2020' '28/03/2020' '27/03/2020' '26/06/2020'\n",
      " '21/03/2020' '23/05/2020' '13/01/2020' '28/06/2020' '27/06/2020'\n",
      " '12/03/2020' '14/03/2020' '29/06/2020' '27/02/2020' '16/03/2020'\n",
      " '11/03/2020' '13/03/2020' '15/03/2020' '04/03/2020' '07/03/2020'\n",
      " '28/02/2020' '02/03/2020' '12/02/2020' '10/03/2020' '14/01/2020'\n",
      " '08/03/2020' '09/03/2020' '28/01/2020' '05/03/2020' '29/02/2020'\n",
      " '29/01/2020' '05/02/2020' '24/02/2020' '12/01/2020' '03/03/2020'\n",
      " '27/01/2020' '11/02/2020' '01/03/2020' '30/01/2020' '08/01/2020'\n",
      " '15/01/2020' '24/01/2020' '06/03/2020' '22/01/2020' '23/02/2020'\n",
      " '10/02/2020' '07/02/2020' '09/02/2020' '26/02/2020' '26/01/2020'\n",
      " '13/02/2020' '23/01/2020' '02/02/2020' '04/01/2020' '25/02/2020'\n",
      " '06/01/2020' '20/01/2020' '17/01/2020' '14/02/2020' '02/01/2020'\n",
      " '09/01/2020' '06/02/2020' '16/02/2020' '10/01/2020' '16/01/2020'\n",
      " '25/01/2020' '17/02/2020' '31/01/2020' '18/02/2020' '20/02/2020'\n",
      " '22/02/2020' '18/01/2020' '19/01/2020' '07/01/2020' '21/01/2020'\n",
      " '03/02/2020' '21/02/2020' '04/02/2020' '08/02/2020' '19/02/2020'\n",
      " '03/01/2020' '01/02/2020' '15/02/2020' '11/01/2020' '01/01/2020'\n",
      " '05/01/2020']\n",
      "pneumonia [2 1 3]\n",
      "gravidez [3 2 1]\n",
      "diabetes [2 1 3]\n",
      "asma [2 1 3]\n",
      "imunodeficiencia [2 1 3]\n",
      "hipertensão [2 1 3]\n",
      "outra doença [2 1 3]\n",
      "cardiovascular [2 1 3]\n",
      "obesidade [2 1 3]\n",
      "renal_crônico [2 1 3]\n",
      "tabaco [2 1 3]\n",
      "contate outro covid [2 3 1]\n",
      "UTI [3 2 1]\n"
     ]
    }
   ],
   "source": [
    "for i in df4.columns:\n",
    "    print(i,df4[i].unique())"
   ]
  },
  {
   "cell_type": "code",
   "execution_count": 78,
   "metadata": {},
   "outputs": [],
   "source": [
    "df4 = df4[df4['UTI']!=3]"
   ]
  },
  {
   "cell_type": "markdown",
   "metadata": {},
   "source": [
    "#### Função para pegar o mês da data"
   ]
  },
  {
   "cell_type": "code",
   "execution_count": 79,
   "metadata": {},
   "outputs": [],
   "source": [
    "def getMes(s):\n",
    "    return int(s[4])"
   ]
  },
  {
   "cell_type": "code",
   "execution_count": 80,
   "metadata": {},
   "outputs": [],
   "source": [
    "df4['mes'] = df4['data_entrada'].map(getMes)"
   ]
  },
  {
   "cell_type": "code",
   "execution_count": 81,
   "metadata": {},
   "outputs": [],
   "source": [
    "df4 = df4.drop(axis = 1, columns = ['id','data_entrada'])"
   ]
  },
  {
   "cell_type": "code",
   "execution_count": 83,
   "metadata": {},
   "outputs": [
    {
     "name": "stderr",
     "output_type": "stream",
     "text": [
      "/opt/anaconda3/lib/python3.8/site-packages/seaborn/_decorators.py:36: FutureWarning: Pass the following variable as a keyword arg: x. From version 0.12, the only valid positional argument will be `data`, and passing other arguments without an explicit keyword will result in an error or misinterpretation.\n",
      "  warnings.warn(\n"
     ]
    },
    {
     "data": {
      "text/plain": [
       "<AxesSubplot:title={'center':'Venda ou Nao'}, xlabel='UTI', ylabel='count'>"
      ]
     },
     "execution_count": 83,
     "metadata": {},
     "output_type": "execute_result"
    },
    {
     "data": {
      "image/png": "[encoded data removed]",
      "text/plain": [
       "<Figure size 432x288 with 1 Axes>"
      ]
     },
     "metadata": {
      "needs_background": "light"
     },
     "output_type": "display_data"
    }
   ],
   "source": [
    "## Criando registros\n",
    "\n",
    "plt.subplot(1,2,2)\n",
    "plt.title('Venda ou Nao')\n",
    "sns.countplot(df3['UTI'])"
   ]
  },
  {
   "cell_type": "code",
   "execution_count": 84,
   "metadata": {},
   "outputs": [
    {
     "name": "stderr",
     "output_type": "stream",
     "text": [
      "/opt/anaconda3/lib/python3.8/site-packages/seaborn/_decorators.py:36: FutureWarning: Pass the following variable as a keyword arg: x. From version 0.12, the only valid positional argument will be `data`, and passing other arguments without an explicit keyword will result in an error or misinterpretation.\n",
      "  warnings.warn(\n"
     ]
    },
    {
     "data": {
      "image/png": "[encoded data removed]",
      "text/plain": [
       "<Figure size 432x288 with 1 Axes>"
      ]
     },
     "metadata": {
      "needs_background": "light"
     },
     "output_type": "display_data"
    }
   ],
   "source": [
    "seed = 14\n",
    "\n",
    "x = df4.iloc[:,0:13]\n",
    "y = df4.iloc[:,13]\n",
    "\n",
    "smote_bal = SMOTE(random_state = seed)\n",
    "\n",
    "x_res,y_res = smote_bal.fit_resample(x,y)\n",
    "\n",
    "x = x_res\n",
    "y = y_res\n",
    "\n",
    "\n",
    "sns.countplot(y_res, palette = 'OrRd')\n",
    "plt.box(False)\n",
    "plt.xlabel(\"Receita Não (0) / Sim(1)\", fontsize = 11)\n",
    "plt.xlabel(\"Total de Sessoes\", fontsize = 11)\n",
    "plt.show()     "
   ]
  },
  {
   "cell_type": "code",
   "execution_count": 92,
   "metadata": {},
   "outputs": [],
   "source": [
    "from sklearn.model_selection import train_test_split\n",
    "x_train4, x_test4, y_train4, y_test4 = train_test_split(x,y,test_size = 0.3)"
   ]
  },
  {
   "cell_type": "code",
   "execution_count": 93,
   "metadata": {},
   "outputs": [],
   "source": [
    "## Padronizando\n",
    "sc = StandardScaler()\n",
    "x_train4 = sc.fit_transform(x_train4)\n",
    "x_test4 = sc.fit_transform(x_test4)"
   ]
  },
  {
   "cell_type": "code",
   "execution_count": 94,
   "metadata": {},
   "outputs": [
    {
     "data": {
      "text/plain": [
       "LogisticRegression(max_iter=1000)"
      ]
     },
     "execution_count": 94,
     "metadata": {},
     "output_type": "execute_result"
    }
   ],
   "source": [
    "modelo4 = LogisticRegression(solver = 'lbfgs', max_iter = 1000)\n",
    "modelo4.fit(x_train4,y_train4)"
   ]
  },
  {
   "cell_type": "code",
   "execution_count": 95,
   "metadata": {},
   "outputs": [
    {
     "name": "stdout",
     "output_type": "stream",
     "text": [
      "66.48 %\n",
      "[[52902 25238]\n",
      " [27173 51033]]\n"
     ]
    }
   ],
   "source": [
    "p4_train = modelo4.predict(x_train4)\n",
    "acc4_train = np.mean(p4_train == y_train4)\n",
    "print(round(acc4_train*100,2),'%')\n",
    "print(confusion_matrix(y_train4, p4_train))"
   ]
  },
  {
   "cell_type": "code",
   "execution_count": 96,
   "metadata": {},
   "outputs": [
    {
     "name": "stdout",
     "output_type": "stream",
     "text": [
      "66.52 %\n",
      "[[22755 10781]\n",
      " [11653 21817]]\n"
     ]
    }
   ],
   "source": [
    "p4_test = modelo4.predict(x_test4)\n",
    "acc4_test = np.mean(p4_test == y_test4)\n",
    "print(round(acc4_test*100,2),'%')\n",
    "print(confusion_matrix(y_test4, p4_test))"
   ]
  },
  {
   "cell_type": "markdown",
   "metadata": {},
   "source": [
    "#### O resultado próximo aos modelos 1 e 3, isso indica que a variável de data não está interferindo no modelo e pode ser descartada. "
   ]
  },
  {
   "cell_type": "markdown",
   "metadata": {},
   "source": [
    "### Conclusão: \n",
    "Os modelos apresentaram uma acurácia ruim (proximo a 66%). Porém ao aplicar o Imblearn, conseguimos remover o viés do modelo que antes estava assumindo o valor 2 para a variavel UTI. \n",
    "\n",
    "Isso significa que os modelos estão explicando mal a variável dependente, e para melhorá-los precisariamos de mais dados. Uma hipotese é que os registros não informados (UTI =3) fossem imporantes para melhorar a performance dos modelos. "
   ]
  }
 ],
 "metadata": {
  "kernelspec": {
   "display_name": "Python 3",
   "language": "python",
   "name": "python3"
  },
  "language_info": {
   "codemirror_mode": {
    "name": "ipython",
    "version": 3
   },
   "file_extension": ".py",
   "mimetype": "text/x-python",
   "name": "python",
   "nbconvert_exporter": "python",
   "pygments_lexer": "ipython3",
   "version": "3.8.5"
  }
 },
 "nbformat": 4,
 "nbformat_minor": 4
}
